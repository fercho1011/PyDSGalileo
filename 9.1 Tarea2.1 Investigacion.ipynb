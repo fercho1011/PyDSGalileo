{
 "cells": [
  {
   "cell_type": "markdown",
   "metadata": {},
   "source": [
    "# Tarea \\#2\n",
    "## Jose Fernando Valdizon Giron Carné 17012696\n",
    "-----------------------------------------------------------------------------------------------------------------------------"
   ]
  },
  {
   "cell_type": "markdown",
   "metadata": {},
   "source": [
    "### Que es proyección vectorial?\n",
    "La proyección vectorial se refiere a reflejar un vector sobre otro. Es decir, dado un vector base A y un vector B, la proyeccion de A en B se refiere a un vector C que tiene la dirección de A y una magnitud de B Cos0 (donde 0 es el angulo formado entre los vectores A y B).\n",
    "\n",
    "La magnitud de la proyeccion (en este caso del vector C), se conoce como la proyeccion escalar de B sobre A."
   ]
  },
  {
   "cell_type": "markdown",
   "metadata": {},
   "source": [
    "### Definir una ufunc para calcular proyección vectorial sobre vectores de Numpy"
   ]
  },
  {
   "cell_type": "code",
   "execution_count": 1,
   "metadata": {},
   "outputs": [
    {
     "data": {
      "text/plain": [
       "array([2., 0.])"
      ]
     },
     "execution_count": 1,
     "metadata": {},
     "output_type": "execute_result"
    }
   ],
   "source": [
    "import numpy as np\n",
    "\n",
    "d = np.array([2,4])\n",
    "e = np.array([2,0])\n",
    "\n",
    "def PVect(projected, base):\n",
    "    return np.dot(projected,base)*(base/np.square(np.linalg.norm(base)))\n",
    "\n",
    "PVect(d,e)\n",
    "    "
   ]
  },
  {
   "cell_type": "markdown",
   "metadata": {},
   "source": [
    "### Como interpretamos la proyección vectorial?\n",
    "Una proyección vectorial podemos interpretarla como la sombra de un vector A sobre un vector B. En otras palabras, es la porción del vector A que se desplaza a través del vector B. Si estos vectores son perpendiculares, la proyeccion de A sobre B es cero."
   ]
  },
  {
   "cell_type": "markdown",
   "metadata": {},
   "source": [
    "### Utilizando la función del punto anterior calcularla para vectores de ejemplo e interpretar o concluir sobre el resultado.\n",
    "Se tienen dos vectores d = [15, 25] y e = [5, 0]. La proyección de d sobre e es el vector p  = [15, 0], cuya magnitud es de 15 y se desplaza o proyecta sobre la dirección de e. Al escoger como vector base e, que tiene 5 unides sobre el eje x y 0 unidades sobre el eje y, es facil ver que la proyección es sobre el eje x y tiene magnitud de 15."
   ]
  },
  {
   "cell_type": "code",
   "execution_count": 3,
   "metadata": {},
   "outputs": [
    {
     "data": {
      "text/plain": [
       "array([15.,  0.])"
      ]
     },
     "execution_count": 3,
     "metadata": {},
     "output_type": "execute_result"
    }
   ],
   "source": [
    "d = np.array([15,25])\n",
    "e = np.array([5,0])\n",
    "\n",
    "PVect(d,e)"
   ]
  },
  {
   "cell_type": "markdown",
   "metadata": {},
   "source": [
    "### Investigar o proponer una aplicación o caso de uso de proyección vectorial en ciencia de datos u otras ciencia de tu interés donde se pueda aplicar programación numérica. \n",
    "Como ejemplo o tip para esta parte: un algoritmo muy importante de ML se basa en esto y su nombre puede servir como pista para saber cual es."
   ]
  },
  {
   "cell_type": "markdown",
   "metadata": {},
   "source": [
    "Uno delos usos de la proyección vectorial en ML es la Proyección Aleatoria, que es una técnica utilizada para reducir la cantidad de dimensiones de un set de datos. Es un método simple y poco errático y es utilizado frecuentemente en tareas que requieren procesamiento de lenguaje natural.\n",
    "\n",
    "\n",
    "https://en.wikipedia.org/wiki/Random_projection"
   ]
  }
 ],
 "metadata": {
  "kernelspec": {
   "display_name": "Python 3",
   "language": "python",
   "name": "python3"
  },
  "language_info": {
   "codemirror_mode": {
    "name": "ipython",
    "version": 3
   },
   "file_extension": ".py",
   "mimetype": "text/x-python",
   "name": "python",
   "nbconvert_exporter": "python",
   "pygments_lexer": "ipython3",
   "version": "3.7.2"
  }
 },
 "nbformat": 4,
 "nbformat_minor": 2
}
