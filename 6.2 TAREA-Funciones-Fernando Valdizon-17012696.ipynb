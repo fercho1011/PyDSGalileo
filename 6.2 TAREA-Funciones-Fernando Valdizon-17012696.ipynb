{
 "cells": [
  {
   "cell_type": "markdown",
   "metadata": {},
   "source": [
    "# Investigación sobre Funciones en Python\n",
    "\n",
    "**Funciones en Python**\n",
    "\n",
    "Las funciones en Python son un objeto que permite llevar a cabo una tarea. Puede valerse de paránetros de ser necesario, que son pasados a la función como elementos para operar y devolver un resultado o simplemente ejecutar una acción. Su utilidad radica en que puede usarse para replicar acciones que requieran ejecutarse o usarse muchas veces.\n",
    "\n",
    "Las funciones en Python constan de varios elementos:\n",
    "\n",
    "- Declaración, que se logra mediante la instrucción def\n",
    "- Nombre, que se asigna por el usuario. Idealmente debe ser fácil de recordar (intuitivo)\n",
    "- Argumentos o parámetros, usualmente necesario pero no imperativo. Estos son los valores que la función necesita para operar.\n",
    "- Documentación o Docstring, se usa como espacio para explicar el funcionamiento de la función. Util para documentación.\n",
    "- Cuerpo, que es básicamente el área donde se codifican las instrucciones u operaciones.\n",
    "- Return, no mandatorio pero se usa regularmente. Sirve para regresar un valor o acción. \n"
   ]
  },
  {
   "cell_type": "code",
   "execution_count": 12,
   "metadata": {},
   "outputs": [
    {
     "name": "stdout",
     "output_type": "stream",
     "text": [
      "4.0\n"
     ]
    }
   ],
   "source": [
    "#Este es un ejemplo de la definición de una función\n",
    "\n",
    "def div(dividendo, divisor):\n",
    "    \"\"\" Devuelve el resultado de dividir 'dividendo' dentro de 'divisor' \n",
    "    \n",
    "    >>> dividendo = 8, divisor = 2\n",
    "        Resultado = 4\n",
    "    \"\"\"\n",
    "    return dividendo/divisor\n",
    "\n",
    "print(div(32,8))"
   ]
  },
  {
   "cell_type": "markdown",
   "metadata": {},
   "source": [
    "**Parámetros Posicionales**\n",
    "\n",
    "Los argumentos o parámetros en Python son posicionales. Esta característica permite indicar los argumentos a una función colocandolos en el orden en que se requieren, sin necesidad de especificarlos explicitamente (parametro1 = Algo)."
   ]
  },
  {
   "cell_type": "code",
   "execution_count": 13,
   "metadata": {},
   "outputs": [
    {
     "data": {
      "text/plain": [
       "37.5"
      ]
     },
     "execution_count": 13,
     "metadata": {},
     "output_type": "execute_result"
    }
   ],
   "source": [
    "#Usando la funcion de div definida anteriormente, podemos pasar div(300,8) y Python toma 300 como el diviendo sin\n",
    "#necesidad de especificarlo.\n",
    "\n",
    "div(300, 8)"
   ]
  },
  {
   "cell_type": "markdown",
   "metadata": {},
   "source": [
    "**Parámetros Nombrados**\n",
    "\n",
    "Si deseamos ser más explicitos o simplemente no recordamos el orden en que se requieren los argumentos, se pueden indicar explicitamente."
   ]
  },
  {
   "cell_type": "code",
   "execution_count": 14,
   "metadata": {},
   "outputs": [
    {
     "data": {
      "text/plain": [
       "10.0"
      ]
     },
     "execution_count": 14,
     "metadata": {},
     "output_type": "execute_result"
    }
   ],
   "source": [
    "#Misma función div\n",
    "\n",
    "div(divisor= 30, dividendo=300)"
   ]
  },
  {
   "cell_type": "markdown",
   "metadata": {},
   "source": [
    "**Retorno de Múltiples Valores**\n",
    "\n",
    "Python puede regresar más de un valor. Una opción para pocos valores de regreso es separarlos con comas."
   ]
  },
  {
   "cell_type": "code",
   "execution_count": 17,
   "metadata": {},
   "outputs": [
    {
     "name": "stdout",
     "output_type": "stream",
     "text": [
      "4 9 16\n"
     ]
    }
   ],
   "source": [
    "#definiendo una nueva función\n",
    "def square(x,y,z):\n",
    "    return x*x, y*y, z*z\n",
    "\n",
    "xsq, ysq, zsq = square(2,3,4)\n",
    "print(xsq, ysq, zsq)"
   ]
  },
  {
   "cell_type": "markdown",
   "metadata": {},
   "source": [
    "**Funciones como Objetos y Parámetros de Otras Funciones**\n",
    "\n",
    "Python trata las funciones como objetos. Por consiguiente, estas pueden pasarse como argumentos a otras funciones. Aqui pasamos Div3 a map."
   ]
  },
  {
   "cell_type": "code",
   "execution_count": 37,
   "metadata": {},
   "outputs": [
    {
     "data": {
      "text/plain": [
       "[3.3333333333333335, 6.666666666666667, 10.0]"
      ]
     },
     "execution_count": 37,
     "metadata": {},
     "output_type": "execute_result"
    }
   ],
   "source": [
    "#Usando map y square\n",
    "def Div3(number):\n",
    "    return number/3\n",
    "\n",
    "x = [10, 20, 30]\n",
    "y = list(map(Div3, x))\n",
    "\n",
    "y"
   ]
  },
  {
   "cell_type": "markdown",
   "metadata": {},
   "source": [
    "**Funciones Anónimas o Lamda**\n",
    "\n",
    "Estas son funciones que pueden definirse y ejectutarse sin un nombre. Puede tener múltiples argumentos pero solamente una expresión y esta, devuelve un resultado.\n",
    "\n",
    "Syntaxis> lambda arg1, arg2,..., argN: expresión"
   ]
  },
  {
   "cell_type": "code",
   "execution_count": 43,
   "metadata": {},
   "outputs": [
    {
     "data": {
      "text/plain": [
       "24"
      ]
     },
     "execution_count": 43,
     "metadata": {},
     "output_type": "execute_result"
    }
   ],
   "source": [
    "lambda1 = lambda num1, num2: num1*num2\n",
    "\n",
    "lambda1(12,2)"
   ]
  }
 ],
 "metadata": {
  "kernelspec": {
   "display_name": "Python 3",
   "language": "python",
   "name": "python3"
  },
  "language_info": {
   "codemirror_mode": {
    "name": "ipython",
    "version": 3
   },
   "file_extension": ".py",
   "mimetype": "text/x-python",
   "name": "python",
   "nbconvert_exporter": "python",
   "pygments_lexer": "ipython3",
   "version": "3.7.2"
  }
 },
 "nbformat": 4,
 "nbformat_minor": 2
}
