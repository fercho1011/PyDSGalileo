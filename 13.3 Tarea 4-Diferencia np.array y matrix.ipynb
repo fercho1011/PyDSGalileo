{
 "cells": [
  {
   "cell_type": "markdown",
   "metadata": {},
   "source": [
    "# Diferencia Entre np.array y np.matrix\n",
    "\n",
    "Basicamente la diferencia radica en que np.array permite construir arreglos de n dimensiones, mientras que np.matrix es el caso especifico de np.array de 2 dimensiones.\n",
    "\n",
    "En general es recomendado limitarse a usar np.array, debido a que np.matrix puede descontinuarse dado que su uso es cada vez menor (probablemente porque es una funcion redundante).\n",
    "\n",
    "Dentro de los beneficios de usar np.matrix, es que soporta operaciones de matrices de forma directa. Puede realizarse multiplicacion de matrices usando el simbolo \"\\*\" o bien, potencia de matrices \"\\**\".\n",
    "\n",
    "##### Syntaxis\n",
    "numpy.matrix(data, dtype=None, copy=True)"
   ]
  },
  {
   "cell_type": "code",
   "execution_count": 4,
   "metadata": {},
   "outputs": [
    {
     "data": {
      "text/plain": [
       "matrix([[1, 2],\n",
       "        [3, 4]])"
      ]
     },
     "execution_count": 4,
     "metadata": {},
     "output_type": "execute_result"
    }
   ],
   "source": [
    "import numpy as np\n",
    "\n",
    "m = np.matrix([[1, 2], [3, 4]])\n",
    "m"
   ]
  },
  {
   "cell_type": "markdown",
   "metadata": {},
   "source": [
    "np.array, como indicaba es un caso más general. Permite crear un arreglo de n dimensiones, incluyendo el caso especial de 2 dimensiones (matrices). Puede definirse el tipo de datos de la matriz, texto, numeros, complejos, etc. \n",
    "\n",
    "##### Syntaxis\n",
    "numpy.array(object, dtype=None, copy=True, order='K', subok=False, ndmin=0)"
   ]
  },
  {
   "cell_type": "code",
   "execution_count": 10,
   "metadata": {},
   "outputs": [
    {
     "data": {
      "text/plain": [
       "array([[[1, 2, 3, 4, 5, 6, 7, 8, 9],\n",
       "        [1, 2, 3, 4, 5, 6, 7, 8, 9],\n",
       "        [1, 2, 3, 4, 5, 6, 7, 8, 9]]])"
      ]
     },
     "execution_count": 10,
     "metadata": {},
     "output_type": "execute_result"
    }
   ],
   "source": [
    "a = np.array([[np.arange(1,10,1), np.arange(1,10,1), np.arange(1,10,1)]])\n",
    "a"
   ]
  }
 ],
 "metadata": {
  "kernelspec": {
   "display_name": "Python 3",
   "language": "python",
   "name": "python3"
  },
  "language_info": {
   "codemirror_mode": {
    "name": "ipython",
    "version": 3
   },
   "file_extension": ".py",
   "mimetype": "text/x-python",
   "name": "python",
   "nbconvert_exporter": "python",
   "pygments_lexer": "ipython3",
   "version": "3.7.2"
  }
 },
 "nbformat": 4,
 "nbformat_minor": 2
}
